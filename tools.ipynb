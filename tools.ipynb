{
 "cells": [
  {
   "cell_type": "code",
   "execution_count": 2,
   "metadata": {},
   "outputs": [],
   "source": [
    "import detectron2\n",
    "from detectron2.utils.logger import setup_logger\n",
    "setup_logger()\n",
    "\n",
    "# import some common libraries\n",
    "import numpy as np\n",
    "import os, json, cv2, random\n",
    "\n",
    "# import some common detectron2 utilities\n",
    "from detectron2 import model_zoo\n",
    "from detectron2.engine import DefaultPredictor\n",
    "from detectron2.config import get_cfg\n",
    "from detectron2.utils.visualizer import Visualizer\n",
    "from detectron2.data import MetadataCatalog, DatasetCatalog\n",
    "import json"
   ]
  },
  {
   "cell_type": "code",
   "execution_count": 1,
   "metadata": {},
   "outputs": [
    {
     "name": "stdout",
     "output_type": "stream",
     "text": [
      "34\n"
     ]
    }
   ],
   "source": [
    "CODA_COMMON=['pedestrian', 'cyclist', 'car', 'truck', 'tram', 'tricycle']\n",
    "CODA_NOVEL=['bus','bicycle', 'moped', 'motorcycle', \n",
    "            'stroller', 'wheelchair', 'cart', 'trailer', 'construction_vehicle', 'recreational_vehicle', 'dog', \n",
    "            'barrier', 'bollard', 'warning_sign', 'sentry_box', 'traffic_box', 'traffic_cone', 'traffic_island',\n",
    "            'traffic_light', 'traffic_sign', 'debris', 'suitcace', 'dustbin', 'concrete_block', 'machinery', 'chair', \n",
    "            'phone_booth', 'basket']\n",
    "tmp = CODA_COMMON+CODA_NOVEL\n",
    "print(len(tmp))"
   ]
  },
  {
   "cell_type": "code",
   "execution_count": 5,
   "metadata": {},
   "outputs": [
    {
     "name": "stdout",
     "output_type": "stream",
     "text": [
      "['pedestrian', 'cyclist', 'car', 'truck', 'tricycle', 'bus', 'bicycle', 'moped', 'motorcycle', 'stroller', 'cart', 'construction_vehicle', 'dog', 'barrier', 'bollard', 'sentry_box', 'traffic_cone', 'traffic_island', 'traffic_light', 'traffic_sign', 'debris', 'suitcace', 'dustbin', 'concrete_block', 'machinery', 'garbage', 'plastic_bag', 'stone', 'unknown']\n"
     ]
    }
   ],
   "source": [
    "ls = []\n",
    "with open(\"/home/leon/detr/OW-DETR-main/data/coda_train/ann.json\", \"r\") as fh:\n",
    "    data = json.load(fh)\n",
    "    cat= data['categories']\n",
    "    for category in cat:\n",
    "        ls.append(category['name'])\n",
    "    print(ls)"
   ]
  },
  {
   "cell_type": "code",
   "execution_count": 6,
   "metadata": {},
   "outputs": [
    {
     "data": {
      "text/plain": [
       "23"
      ]
     },
     "execution_count": 6,
     "metadata": {},
     "output_type": "execute_result"
    }
   ],
   "source": [
    "tmp=[ 'bus', 'bicycle', 'moped', 'motorcycle', 'stroller', 'cart', \n",
    "            'construction_vehicle', 'dog', 'barrier', 'bollard', 'sentry_box', 'traffic_cone', \n",
    "            'traffic_island', 'traffic_light', 'traffic_sign', 'debris', 'suitcace', \n",
    "            'dustbin', 'concrete_block', 'machinery', 'garbage', 'plastic_bag', 'stone']\n",
    "len(tmp)"
   ]
  },
  {
   "cell_type": "code",
   "execution_count": 7,
   "metadata": {},
   "outputs": [
    {
     "data": {
      "text/plain": [
       "['0',\n",
       " '1',\n",
       " '2',\n",
       " '3',\n",
       " '4',\n",
       " '5',\n",
       " '6',\n",
       " '7',\n",
       " '8',\n",
       " '9',\n",
       " '10',\n",
       " '11',\n",
       " '12',\n",
       " '13',\n",
       " '14',\n",
       " '15',\n",
       " '16',\n",
       " '17',\n",
       " '18',\n",
       " '19',\n",
       " '20',\n",
       " '21',\n",
       " '22',\n",
       " '23',\n",
       " '24',\n",
       " '25',\n",
       " '26',\n",
       " '27',\n",
       " '28',\n",
       " '29',\n",
       " '30',\n",
       " '31',\n",
       " '32',\n",
       " '33',\n",
       " '34',\n",
       " '35',\n",
       " '36',\n",
       " '37',\n",
       " '38',\n",
       " '39',\n",
       " '40',\n",
       " '41',\n",
       " '42',\n",
       " '43',\n",
       " '44',\n",
       " '45',\n",
       " '46',\n",
       " '47',\n",
       " '48',\n",
       " '49']"
      ]
     },
     "execution_count": 7,
     "metadata": {},
     "output_type": "execute_result"
    }
   ],
   "source": [
    "tmp=[]\n",
    "for i in range(50):\n",
    "    tmp.append(str(i))\n",
    "tmp"
   ]
  },
  {
   "cell_type": "code",
   "execution_count": null,
   "metadata": {},
   "outputs": [],
   "source": []
  }
 ],
 "metadata": {
  "kernelspec": {
   "display_name": "detr",
   "language": "python",
   "name": "python3"
  },
  "language_info": {
   "codemirror_mode": {
    "name": "ipython",
    "version": 3
   },
   "file_extension": ".py",
   "mimetype": "text/x-python",
   "name": "python",
   "nbconvert_exporter": "python",
   "pygments_lexer": "ipython3",
   "version": "3.7.15"
  },
  "orig_nbformat": 4,
  "vscode": {
   "interpreter": {
    "hash": "dfb86a148f8d0d800fde40a3ff3472036fb13f7c36573a42d447cf3e02277fa9"
   }
  }
 },
 "nbformat": 4,
 "nbformat_minor": 2
}
